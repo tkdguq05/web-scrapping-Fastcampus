{
 "cells": [
  {
   "cell_type": "markdown",
   "metadata": {},
   "source": [
    "# Web scrapping day!!"
   ]
  },
  {
   "cell_type": "code",
   "execution_count": 1,
   "metadata": {},
   "outputs": [],
   "source": [
    "import requests\n",
    "from bs4 import BeautifulSoup"
   ]
  },
  {
   "cell_type": "code",
   "execution_count": 3,
   "metadata": {},
   "outputs": [
    {
     "data": {
      "text/plain": [
       "<Response [200]>"
      ]
     },
     "execution_count": 3,
     "metadata": {},
     "output_type": "execute_result"
    }
   ],
   "source": [
    "#requests 연습\n",
    "\n",
    "requests.get('http://google.com')"
   ]
  },
  {
   "cell_type": "code",
   "execution_count": 4,
   "metadata": {},
   "outputs": [],
   "source": [
    "url = \"https://google.com\"\n",
    "response = requests.get(url)"
   ]
  },
  {
   "cell_type": "code",
   "execution_count": 5,
   "metadata": {},
   "outputs": [
    {
     "data": {
      "text/plain": [
       "<Response [200]>"
      ]
     },
     "execution_count": 5,
     "metadata": {},
     "output_type": "execute_result"
    }
   ],
   "source": [
    "response"
   ]
  },
  {
   "cell_type": "code",
   "execution_count": 8,
   "metadata": {},
   "outputs": [
    {
     "data": {
      "text/plain": [
       "'<!doctype html><html'"
      ]
     },
     "execution_count": 8,
     "metadata": {},
     "output_type": "execute_result"
    }
   ],
   "source": [
    "response.text[:20]"
   ]
  },
  {
   "cell_type": "code",
   "execution_count": 9,
   "metadata": {},
   "outputs": [
    {
     "data": {
      "text/plain": [
       "'ISO-8859-1'"
      ]
     },
     "execution_count": 9,
     "metadata": {},
     "output_type": "execute_result"
    }
   ],
   "source": [
    "response.encoding"
   ]
  },
  {
   "cell_type": "code",
   "execution_count": 13,
   "metadata": {},
   "outputs": [
    {
     "data": {
      "text/plain": [
       "{'Date': 'Wed, 12 Dec 2018 11:54:58 GMT', 'Expires': '-1', 'Cache-Control': 'private, max-age=0', 'Content-Type': 'text/html; charset=ISO-8859-1', 'P3P': 'CP=\"This is not a P3P policy! See g.co/p3phelp for more info.\"', 'Content-Encoding': 'gzip', 'Server': 'gws', 'X-XSS-Protection': '1; mode=block', 'X-Frame-Options': 'SAMEORIGIN', 'Set-Cookie': '1P_JAR=2018-12-12-11; expires=Fri, 11-Jan-2019 11:54:58 GMT; path=/; domain=.google.com, NID=150=vepv4w-BdlVyl7zW9ZdrdjST-fvUq5gdixsw6mvSu49gPQD__s9DpwNSs26WNI0GGhdP8R_3p7QBl1ajwR2QmHo8Ya3A1RH0-PkzDxMzUCPIzHHeTTXb-j_41FWoO27ggcfHY_AYs0dopIF5p54oZ0sk9eqIsQWanvBG5kaAH9Q; expires=Thu, 13-Jun-2019 11:54:58 GMT; path=/; domain=.google.com; HttpOnly', 'Alt-Svc': 'quic=\":443\"; ma=2592000; v=\"44,43,39,35\"', 'Transfer-Encoding': 'chunked'}"
      ]
     },
     "execution_count": 13,
     "metadata": {},
     "output_type": "execute_result"
    }
   ],
   "source": [
    "response.headers"
   ]
  },
  {
   "cell_type": "code",
   "execution_count": 12,
   "metadata": {},
   "outputs": [
    {
     "data": {
      "text/plain": [
       "'text/html; charset=ISO-8859-1'"
      ]
     },
     "execution_count": 12,
     "metadata": {},
     "output_type": "execute_result"
    }
   ],
   "source": [
    "response.headers['Content-Type']"
   ]
  },
  {
   "cell_type": "code",
   "execution_count": 14,
   "metadata": {},
   "outputs": [],
   "source": [
    "url = \"https://www.theguardian.com/uk/technology\""
   ]
  },
  {
   "cell_type": "code",
   "execution_count": 16,
   "metadata": {},
   "outputs": [],
   "source": [
    "response = requests.get(url)"
   ]
  },
  {
   "cell_type": "code",
   "execution_count": 19,
   "metadata": {},
   "outputs": [],
   "source": [
    "html = response.text"
   ]
  },
  {
   "cell_type": "code",
   "execution_count": 21,
   "metadata": {},
   "outputs": [],
   "source": [
    "soup = BeautifulSoup(html, 'html.parser') #class, html-parser(c기반, 컴퓨터를 조금 탄다는 단점이 있음)"
   ]
  },
  {
   "cell_type": "code",
   "execution_count": 22,
   "metadata": {},
   "outputs": [
    {
     "data": {
      "text/plain": [
       "<ul aria-hidden=\"true\" class=\"dropdown-menu dropdown-menu--light js-user-account-dropdown-menu\" id=\"my-account-dropdown\">\n",
       "<li class=\"dropdown-menu__item u-h js-show-comment-activity\">\n",
       "<a class=\"dropdown-menu__title js-add-comment-activity-link\" data-link-name=\"nav2 : topbar : comment activity\">\n",
       "Comments &amp; replies\n",
       "</a>\n",
       "</li>\n",
       "<li class=\"dropdown-menu__item\">\n",
       "<a class=\"dropdown-menu__title\" data-link-name=\"nav2 : topbar : edit profile\" href=\"https://profile.theguardian.com/public/edit\">\n",
       "Public profile\n",
       "</a>\n",
       "</li>\n",
       "<li class=\"dropdown-menu__item\">\n",
       "<a class=\"dropdown-menu__title\" data-link-name=\"nav2 : topbar : account details\" href=\"https://profile.theguardian.com/account/edit\">\n",
       "Account details\n",
       "</a>\n",
       "</li>\n",
       "<li class=\"dropdown-menu__item\">\n",
       "<a class=\"dropdown-menu__title\" data-link-name=\"nav2 : topbar : email prefs\" href=\"https://profile.theguardian.com/email-prefs\">\n",
       "Emails &amp; marketing\n",
       "</a>\n",
       "</li>\n",
       "<hr/>\n",
       "<li class=\"dropdown-menu__item\">\n",
       "<a class=\"dropdown-menu__title\" data-link-name=\"nav2 : topbar : membership\" href=\"https://profile.theguardian.com/membership/edit\">\n",
       "Membership\n",
       "</a>\n",
       "</li>\n",
       "<li class=\"dropdown-menu__item\">\n",
       "<a class=\"dropdown-menu__title\" data-link-name=\"nav2 : topbar : contributions\" href=\"https://profile.theguardian.com/contribution/recurring/edit\">\n",
       "Contributions\n",
       "</a>\n",
       "</li>\n",
       "<li class=\"dropdown-menu__item\">\n",
       "<a class=\"dropdown-menu__title\" data-link-name=\"nav2 : topbar : subscriptions\" href=\"https://profile.theguardian.com/digitalpack/edit\">\n",
       "Digital Pack\n",
       "</a>\n",
       "</li>\n",
       "<hr/>\n",
       "<li class=\"dropdown-menu__item\">\n",
       "<a class=\"dropdown-menu__title\" data-link-name=\"nav2 : topbar : sign out\" href=\"https://profile.theguardian.com/signout\">\n",
       "<span aria-hidden=\"true\" class=\"inline-log-off inline-icon \" role=\"presentation\">\n",
       "<svg class=\"inline-log-off__svg inline-icon__svg\" fill=\"none\" height=\"22\" viewbox=\"0 0 20 22\" width=\"20\">\n",
       "<g clip-path=\"url(#a)\">\n",
       "<path clip-rule=\"evenodd\" d=\"M14.875 16.475l-.875-.9L16.725 12H8v-2h8.725L14 6.425l.875-.875L20 10.65v.7l-5.125 5.125zM11 21v1H1.025L0 20.975v-20L1.025 0H11v1l-1 1H2v18h8l1 1z\" fill=\"#333\" fill-rule=\"evenodd\"></path>\n",
       "</g>\n",
       "<defs>\n",
       "<clippath id=\"a\">\n",
       "<path d=\"M0 0h20v22H0z\" fill=\"#fff\"></path>\n",
       "</clippath>\n",
       "</defs>\n",
       "</svg>\n",
       "</span>\n",
       "Sign out\n",
       "</a>\n",
       "</li>\n",
       "</ul>"
      ]
     },
     "execution_count": 22,
     "metadata": {},
     "output_type": "execute_result"
    }
   ],
   "source": [
    "soup.find('ul') #find 일치하는 가장 첫번째값 리턴, find_all 처음부터 끝까지, 일치하는 값 모두를 list로"
   ]
  },
  {
   "cell_type": "code",
   "execution_count": 24,
   "metadata": {},
   "outputs": [],
   "source": [
    "ul = soup.find('ul', attrs = {'class':'headline-list'}) #<ul class=\"headline-list\""
   ]
  },
  {
   "cell_type": "code",
   "execution_count": 26,
   "metadata": {},
   "outputs": [],
   "source": [
    "lis = ul.find_all('li')"
   ]
  },
  {
   "cell_type": "code",
   "execution_count": 28,
   "metadata": {},
   "outputs": [
    {
     "data": {
      "text/plain": [
       "10"
      ]
     },
     "execution_count": 28,
     "metadata": {},
     "output_type": "execute_result"
    }
   ],
   "source": [
    "len(lis)"
   ]
  },
  {
   "cell_type": "code",
   "execution_count": 31,
   "metadata": {},
   "outputs": [
    {
     "data": {
      "text/plain": [
       "'Apple 12.9in iPad Pro review: bringing back the wow factor'"
      ]
     },
     "execution_count": 31,
     "metadata": {},
     "output_type": "execute_result"
    }
   ],
   "source": [
    "lis[0].find(attrs = {'class':'js-headline-text'}).get_text()"
   ]
  },
  {
   "cell_type": "code",
   "execution_count": 95,
   "metadata": {},
   "outputs": [
    {
     "data": {
      "text/plain": [
       "[('Apple 12.9in iPad Pro review: bringing back the wow factor',\n",
       "  'https://www.theguardian.com/technology/2018/dec/12/apple-129in-ipad-pro-review-bringing-back-the-wow-factor'),\n",
       " ('Broadband too slow in more than a quarter of UK homes – report',\n",
       "  'https://www.theguardian.com/technology/2018/dec/12/broadband-too-slow-in-more-than-a-quarter-of-uk-homes-report'),\n",
       " ('Meng Wanzhou: Canadian court frees Huawei CFO on bail',\n",
       "  'https://www.theguardian.com/technology/2018/dec/12/meng-wanzhou-canada-frees-huawei-cfo-on-bail'),\n",
       " (\"Revealed: Google's 'two-tier' workforce training document\",\n",
       "  'https://www.theguardian.com/technology/2018/dec/11/google-tvc-full-time-employees-training-document'),\n",
       " (\"Why Facebook's new rule about sex is its weirdest yet\",\n",
       "  'https://www.theguardian.com/technology/commentisfree/2018/dec/11/why-facebooks-new-rule-about-sex-is-its-weirdest-yet'),\n",
       " ('Google CEO Sundar Pichai refuses to rule out censored Chinese search engine',\n",
       "  'https://www.theguardian.com/technology/2018/dec/11/google-ceo-sundar-pichai-congress'),\n",
       " ('Encryption laws will allow targeting of those suspected of minor crimes, experts warn',\n",
       "  'https://www.theguardian.com/technology/2018/dec/12/encryption-laws-will-allow-targeting-of-those-suspected-of-minor-crimes-experts-warn'),\n",
       " ('The 20 best gadgets of 2018',\n",
       "  'https://www.theguardian.com/technology/2018/dec/09/the-20-best-gadgets-of-2018'),\n",
       " ('Google+ to shut down early after privacy flaw affects over 50m users',\n",
       "  'https://www.theguardian.com/technology/2018/dec/10/google-to-shut-down-early-after-privacy-flaw-affects-over-50m-users'),\n",
       " ('A brief guide to everything that’s annoying about Apple',\n",
       "  'https://www.theguardian.com/technology/2016/apr/27/a-brief-guide-to-everything-thats-annoying-about-apple')]"
      ]
     },
     "execution_count": 95,
     "metadata": {},
     "output_type": "execute_result"
    }
   ],
   "source": [
    "results =[]\n",
    "\n",
    "for i in range(len(lis)):\n",
    "    articles = lis[i].find(attrs = {'class':'js-headline-text'}).get_text()\n",
    "    links = lis[i].find('a').attrs['href']\n",
    "    results.append((articles, links))\n",
    "results"
   ]
  },
  {
   "cell_type": "code",
   "execution_count": 34,
   "metadata": {
    "scrolled": true
   },
   "outputs": [
    {
     "data": {
      "text/plain": [
       "['Apple 12.9in iPad Pro review: bringing back the wow factor',\n",
       " 'Broadband too slow in more than a quarter of UK homes – report',\n",
       " 'Meng Wanzhou: Canadian court frees Huawei CFO on bail',\n",
       " \"Revealed: Google's 'two-tier' workforce training document\",\n",
       " \"Why Facebook's new rule about sex is its weirdest yet\",\n",
       " 'Google CEO Sundar Pichai refuses to rule out censored Chinese search engine',\n",
       " 'Encryption laws will allow targeting of those suspected of minor crimes, experts warn',\n",
       " 'The 20 best gadgets of 2018',\n",
       " 'Google+ to shut down early after privacy flaw affects over 50m users',\n",
       " 'A brief guide to everything that’s annoying about Apple']"
      ]
     },
     "execution_count": 34,
     "metadata": {},
     "output_type": "execute_result"
    }
   ],
   "source": [
    "articles"
   ]
  },
  {
   "cell_type": "code",
   "execution_count": 90,
   "metadata": {},
   "outputs": [
    {
     "data": {
      "text/plain": [
       "['https://www.theguardian.com/technology/2018/dec/12/apple-129in-ipad-pro-review-bringing-back-the-wow-factor',\n",
       " 'https://www.theguardian.com/technology/2018/dec/12/broadband-too-slow-in-more-than-a-quarter-of-uk-homes-report',\n",
       " 'https://www.theguardian.com/technology/2018/dec/12/meng-wanzhou-canada-frees-huawei-cfo-on-bail',\n",
       " 'https://www.theguardian.com/technology/2018/dec/11/google-tvc-full-time-employees-training-document',\n",
       " 'https://www.theguardian.com/technology/commentisfree/2018/dec/11/why-facebooks-new-rule-about-sex-is-its-weirdest-yet',\n",
       " 'https://www.theguardian.com/technology/2018/dec/11/google-ceo-sundar-pichai-congress',\n",
       " 'https://www.theguardian.com/technology/2018/dec/12/encryption-laws-will-allow-targeting-of-those-suspected-of-minor-crimes-experts-warn',\n",
       " 'https://www.theguardian.com/technology/2018/dec/09/the-20-best-gadgets-of-2018',\n",
       " 'https://www.theguardian.com/technology/2018/dec/10/google-to-shut-down-early-after-privacy-flaw-affects-over-50m-users',\n",
       " 'https://www.theguardian.com/technology/2016/apr/27/a-brief-guide-to-everything-thats-annoying-about-apple']"
      ]
     },
     "execution_count": 90,
     "metadata": {},
     "output_type": "execute_result"
    }
   ],
   "source": [
    "links"
   ]
  },
  {
   "cell_type": "code",
   "execution_count": 86,
   "metadata": {},
   "outputs": [
    {
     "data": {
      "text/plain": [
       "'https://www.theguardian.com/technology/2018/dec/12/apple-129in-ipad-pro-review-bringing-back-the-wow-factor'"
      ]
     },
     "execution_count": 86,
     "metadata": {},
     "output_type": "execute_result"
    }
   ],
   "source": [
    "lis[0].find('a').attrs['href']"
   ]
  },
  {
   "cell_type": "code",
   "execution_count": null,
   "metadata": {},
   "outputs": [],
   "source": []
  },
  {
   "cell_type": "markdown",
   "metadata": {},
   "source": [
    "### Rottentomatoes\n",
    "### scores"
   ]
  },
  {
   "cell_type": "code",
   "execution_count": 240,
   "metadata": {},
   "outputs": [],
   "source": [
    "url = 'https://www.rottentomatoes.com'"
   ]
  },
  {
   "cell_type": "code",
   "execution_count": 97,
   "metadata": {},
   "outputs": [],
   "source": [
    "response = requests.get(url)"
   ]
  },
  {
   "cell_type": "code",
   "execution_count": 114,
   "metadata": {},
   "outputs": [],
   "source": [
    "html = response.text"
   ]
  },
  {
   "cell_type": "code",
   "execution_count": 116,
   "metadata": {},
   "outputs": [],
   "source": [
    "soup = BeautifulSoup(html, 'html.parser')"
   ]
  },
  {
   "cell_type": "code",
   "execution_count": null,
   "metadata": {},
   "outputs": [],
   "source": [
    "#homepage-top-box-office"
   ]
  },
  {
   "cell_type": "code",
   "execution_count": 121,
   "metadata": {
    "scrolled": false
   },
   "outputs": [],
   "source": [
    "rotten=soup.find('div', attrs = {'id':'homepage-top-box-office'})"
   ]
  },
  {
   "cell_type": "code",
   "execution_count": 159,
   "metadata": {},
   "outputs": [],
   "source": [
    "ratios = rotten.find_all('span', attrs={'class':'tMeterScore'})"
   ]
  },
  {
   "cell_type": "code",
   "execution_count": 160,
   "metadata": {},
   "outputs": [
    {
     "data": {
      "text/plain": [
       "<span class=\"tMeterScore\">88%</span>"
      ]
     },
     "execution_count": 160,
     "metadata": {},
     "output_type": "execute_result"
    }
   ],
   "source": []
  },
  {
   "cell_type": "markdown",
   "metadata": {},
   "source": [
    "### title"
   ]
  },
  {
   "cell_type": "code",
   "execution_count": 162,
   "metadata": {},
   "outputs": [],
   "source": [
    "rottens_ratio = []\n",
    "for ratio in ratios:\n",
    "    rottens_ratio.append(ratio.text)"
   ]
  },
  {
   "cell_type": "code",
   "execution_count": 163,
   "metadata": {},
   "outputs": [
    {
     "data": {
      "text/plain": [
       "['88%', '57%', '83%', '38%', '62%', '82%', '82%', '16%', '12%', '91%']"
      ]
     },
     "execution_count": 163,
     "metadata": {},
     "output_type": "execute_result"
    }
   ],
   "source": [
    "rottens_ratio"
   ]
  },
  {
   "cell_type": "code",
   "execution_count": 165,
   "metadata": {},
   "outputs": [],
   "source": [
    "titles = rotten.find_all('a')"
   ]
  },
  {
   "cell_type": "code",
   "execution_count": 202,
   "metadata": {},
   "outputs": [
    {
     "data": {
      "text/plain": [
       "[<td class=\"left_col\">\n",
       " <a href=\"/m/ralph_breaks_the_internet\">\n",
       " <span class=\"icon tiny certified_fresh\"></span>\n",
       " <span class=\"tMeterScore\">88%</span>\n",
       " </a>\n",
       " </td>, <td class=\"middle_col\">\n",
       " <a href=\"/m/ralph_breaks_the_internet\">Ralph Breaks the Internet</a>\n",
       " </td>, <td class=\"right_col right\">\n",
       " <a href=\"/m/ralph_breaks_the_internet\">$16.4M</a>\n",
       " </td>, <td class=\"left_col\">\n",
       " <a href=\"/m/the_grinch\">\n",
       " <span class=\"icon tiny rotten\"></span>\n",
       " <span class=\"tMeterScore\">57%</span>\n",
       " </a>\n",
       " </td>, <td class=\"middle_col\">\n",
       " <a href=\"/m/the_grinch\">The Grinch</a>\n",
       " </td>, <td class=\"right_col right\">\n",
       " <a href=\"/m/the_grinch\">$15.1M</a>\n",
       " </td>, <td class=\"left_col\">\n",
       " <a href=\"/m/creed_ii\">\n",
       " <span class=\"icon tiny certified_fresh\"></span>\n",
       " <span class=\"tMeterScore\">83%</span>\n",
       " </a>\n",
       " </td>, <td class=\"middle_col\">\n",
       " <a href=\"/m/creed_ii\">Creed II</a>\n",
       " </td>, <td class=\"right_col right\">\n",
       " <a href=\"/m/creed_ii\">$10.1M</a>\n",
       " </td>, <td class=\"left_col\">\n",
       " <a href=\"/m/fantastic_beasts_the_crimes_of_grindelwald\">\n",
       " <span class=\"icon tiny rotten\"></span>\n",
       " <span class=\"tMeterScore\">38%</span>\n",
       " </a>\n",
       " </td>, <td class=\"middle_col\">\n",
       " <a href=\"/m/fantastic_beasts_the_crimes_of_grindelwald\">Fantastic Beasts: The Crimes of Grindelwald</a>\n",
       " </td>, <td class=\"right_col right\">\n",
       " <a href=\"/m/fantastic_beasts_the_crimes_of_grindelwald\">$7M</a>\n",
       " </td>, <td class=\"left_col\">\n",
       " <a href=\"/m/bohemian_rhapsody\">\n",
       " <span class=\"icon tiny fresh\"></span>\n",
       " <span class=\"tMeterScore\">62%</span>\n",
       " </a>\n",
       " </td>, <td class=\"middle_col\">\n",
       " <a href=\"/m/bohemian_rhapsody\">Bohemian Rhapsody</a>\n",
       " </td>, <td class=\"right_col right\">\n",
       " <a href=\"/m/bohemian_rhapsody\">$6.2M</a>\n",
       " </td>, <td class=\"left_col\">\n",
       " <a href=\"/m/instant_family\">\n",
       " <span class=\"icon tiny certified_fresh\"></span>\n",
       " <span class=\"tMeterScore\">82%</span>\n",
       " </a>\n",
       " </td>, <td class=\"middle_col\">\n",
       " <a href=\"/m/instant_family\">Instant Family</a>\n",
       " </td>, <td class=\"right_col right\">\n",
       " <a href=\"/m/instant_family\">$5.8M</a>\n",
       " </td>, <td class=\"left_col\">\n",
       " <a href=\"/m/green_book\">\n",
       " <span class=\"icon tiny certified_fresh\"></span>\n",
       " <span class=\"tMeterScore\">82%</span>\n",
       " </a>\n",
       " </td>, <td class=\"middle_col\">\n",
       " <a href=\"/m/green_book\">Green Book</a>\n",
       " </td>, <td class=\"right_col right\">\n",
       " <a href=\"/m/green_book\">$4M</a>\n",
       " </td>, <td class=\"left_col\">\n",
       " <a href=\"/m/robin_hood_2018\">\n",
       " <span class=\"icon tiny rotten\"></span>\n",
       " <span class=\"tMeterScore\">16%</span>\n",
       " </a>\n",
       " </td>, <td class=\"middle_col\">\n",
       " <a href=\"/m/robin_hood_2018\">Robin Hood</a>\n",
       " </td>, <td class=\"right_col right\">\n",
       " <a href=\"/m/robin_hood_2018\">$3.5M</a>\n",
       " </td>, <td class=\"left_col\">\n",
       " <a href=\"/m/the_possession_of_hannah_grace\">\n",
       " <span class=\"icon tiny rotten\"></span>\n",
       " <span class=\"tMeterScore\">12%</span>\n",
       " </a>\n",
       " </td>, <td class=\"middle_col\">\n",
       " <a href=\"/m/the_possession_of_hannah_grace\">The Possession of Hannah Grace</a>\n",
       " </td>, <td class=\"right_col right\">\n",
       " <a href=\"/m/the_possession_of_hannah_grace\">$3.3M</a>\n",
       " </td>, <td class=\"left_col\">\n",
       " <a href=\"/m/widows_2018\">\n",
       " <span class=\"icon tiny certified_fresh\"></span>\n",
       " <span class=\"tMeterScore\">91%</span>\n",
       " </a>\n",
       " </td>, <td class=\"middle_col\">\n",
       " <a href=\"/m/widows_2018\">Widows</a>\n",
       " </td>, <td class=\"right_col right\">\n",
       " <a href=\"/m/widows_2018\">$3.1M</a>\n",
       " </td>]"
      ]
     },
     "execution_count": 202,
     "metadata": {},
     "output_type": "execute_result"
    }
   ],
   "source": [
    "rotten.find_all('td')"
   ]
  },
  {
   "cell_type": "code",
   "execution_count": null,
   "metadata": {},
   "outputs": [],
   "source": []
  },
  {
   "cell_type": "code",
   "execution_count": 213,
   "metadata": {},
   "outputs": [
    {
     "data": {
      "text/plain": [
       "'Ralph Breaks the Internet'"
      ]
     },
     "execution_count": 213,
     "metadata": {},
     "output_type": "execute_result"
    }
   ],
   "source": [
    "rotten.find('td', attrs={'class':'middle_col'}).get_text().replace(\"\\n\",\"\")"
   ]
  },
  {
   "cell_type": "code",
   "execution_count": 216,
   "metadata": {},
   "outputs": [],
   "source": [
    "trs = rotten.find_all('tr')"
   ]
  },
  {
   "cell_type": "code",
   "execution_count": 217,
   "metadata": {},
   "outputs": [
    {
     "data": {
      "text/plain": [
       "[<tr class=\"\">\n",
       " <td class=\"left_col\">\n",
       " <a href=\"/m/ralph_breaks_the_internet\">\n",
       " <span class=\"icon tiny certified_fresh\"></span>\n",
       " <span class=\"tMeterScore\">88%</span>\n",
       " </a>\n",
       " </td>\n",
       " <td class=\"middle_col\">\n",
       " <a href=\"/m/ralph_breaks_the_internet\">Ralph Breaks the Internet</a>\n",
       " </td>\n",
       " <td class=\"right_col right\">\n",
       " <a href=\"/m/ralph_breaks_the_internet\">$16.4M</a>\n",
       " </td>\n",
       " </tr>, <tr class=\"\">\n",
       " <td class=\"left_col\">\n",
       " <a href=\"/m/the_grinch\">\n",
       " <span class=\"icon tiny rotten\"></span>\n",
       " <span class=\"tMeterScore\">57%</span>\n",
       " </a>\n",
       " </td>\n",
       " <td class=\"middle_col\">\n",
       " <a href=\"/m/the_grinch\">The Grinch</a>\n",
       " </td>\n",
       " <td class=\"right_col right\">\n",
       " <a href=\"/m/the_grinch\">$15.1M</a>\n",
       " </td>\n",
       " </tr>, <tr class=\"\">\n",
       " <td class=\"left_col\">\n",
       " <a href=\"/m/creed_ii\">\n",
       " <span class=\"icon tiny certified_fresh\"></span>\n",
       " <span class=\"tMeterScore\">83%</span>\n",
       " </a>\n",
       " </td>\n",
       " <td class=\"middle_col\">\n",
       " <a href=\"/m/creed_ii\">Creed II</a>\n",
       " </td>\n",
       " <td class=\"right_col right\">\n",
       " <a href=\"/m/creed_ii\">$10.1M</a>\n",
       " </td>\n",
       " </tr>, <tr class=\"\">\n",
       " <td class=\"left_col\">\n",
       " <a href=\"/m/fantastic_beasts_the_crimes_of_grindelwald\">\n",
       " <span class=\"icon tiny rotten\"></span>\n",
       " <span class=\"tMeterScore\">38%</span>\n",
       " </a>\n",
       " </td>\n",
       " <td class=\"middle_col\">\n",
       " <a href=\"/m/fantastic_beasts_the_crimes_of_grindelwald\">Fantastic Beasts: The Crimes of Grindelwald</a>\n",
       " </td>\n",
       " <td class=\"right_col right\">\n",
       " <a href=\"/m/fantastic_beasts_the_crimes_of_grindelwald\">$7M</a>\n",
       " </td>\n",
       " </tr>, <tr class=\"\">\n",
       " <td class=\"left_col\">\n",
       " <a href=\"/m/bohemian_rhapsody\">\n",
       " <span class=\"icon tiny fresh\"></span>\n",
       " <span class=\"tMeterScore\">62%</span>\n",
       " </a>\n",
       " </td>\n",
       " <td class=\"middle_col\">\n",
       " <a href=\"/m/bohemian_rhapsody\">Bohemian Rhapsody</a>\n",
       " </td>\n",
       " <td class=\"right_col right\">\n",
       " <a href=\"/m/bohemian_rhapsody\">$6.2M</a>\n",
       " </td>\n",
       " </tr>, <tr class=\"\">\n",
       " <td class=\"left_col\">\n",
       " <a href=\"/m/instant_family\">\n",
       " <span class=\"icon tiny certified_fresh\"></span>\n",
       " <span class=\"tMeterScore\">82%</span>\n",
       " </a>\n",
       " </td>\n",
       " <td class=\"middle_col\">\n",
       " <a href=\"/m/instant_family\">Instant Family</a>\n",
       " </td>\n",
       " <td class=\"right_col right\">\n",
       " <a href=\"/m/instant_family\">$5.8M</a>\n",
       " </td>\n",
       " </tr>, <tr class=\"\">\n",
       " <td class=\"left_col\">\n",
       " <a href=\"/m/green_book\">\n",
       " <span class=\"icon tiny certified_fresh\"></span>\n",
       " <span class=\"tMeterScore\">82%</span>\n",
       " </a>\n",
       " </td>\n",
       " <td class=\"middle_col\">\n",
       " <a href=\"/m/green_book\">Green Book</a>\n",
       " </td>\n",
       " <td class=\"right_col right\">\n",
       " <a href=\"/m/green_book\">$4M</a>\n",
       " </td>\n",
       " </tr>, <tr class=\"\">\n",
       " <td class=\"left_col\">\n",
       " <a href=\"/m/robin_hood_2018\">\n",
       " <span class=\"icon tiny rotten\"></span>\n",
       " <span class=\"tMeterScore\">16%</span>\n",
       " </a>\n",
       " </td>\n",
       " <td class=\"middle_col\">\n",
       " <a href=\"/m/robin_hood_2018\">Robin Hood</a>\n",
       " </td>\n",
       " <td class=\"right_col right\">\n",
       " <a href=\"/m/robin_hood_2018\">$3.5M</a>\n",
       " </td>\n",
       " </tr>, <tr class=\"\">\n",
       " <td class=\"left_col\">\n",
       " <a href=\"/m/the_possession_of_hannah_grace\">\n",
       " <span class=\"icon tiny rotten\"></span>\n",
       " <span class=\"tMeterScore\">12%</span>\n",
       " </a>\n",
       " </td>\n",
       " <td class=\"middle_col\">\n",
       " <a href=\"/m/the_possession_of_hannah_grace\">The Possession of Hannah Grace</a>\n",
       " </td>\n",
       " <td class=\"right_col right\">\n",
       " <a href=\"/m/the_possession_of_hannah_grace\">$3.3M</a>\n",
       " </td>\n",
       " </tr>, <tr class=\"\">\n",
       " <td class=\"left_col\">\n",
       " <a href=\"/m/widows_2018\">\n",
       " <span class=\"icon tiny certified_fresh\"></span>\n",
       " <span class=\"tMeterScore\">91%</span>\n",
       " </a>\n",
       " </td>\n",
       " <td class=\"middle_col\">\n",
       " <a href=\"/m/widows_2018\">Widows</a>\n",
       " </td>\n",
       " <td class=\"right_col right\">\n",
       " <a href=\"/m/widows_2018\">$3.1M</a>\n",
       " </td>\n",
       " </tr>]"
      ]
     },
     "execution_count": 217,
     "metadata": {},
     "output_type": "execute_result"
    }
   ],
   "source": [
    "trs"
   ]
  },
  {
   "cell_type": "code",
   "execution_count": 218,
   "metadata": {},
   "outputs": [],
   "source": [
    "results = []\n",
    "for tr in trs:\n",
    "    rotten_index = tr.find('td', attrs={'class':'left_col'}).text.strip('\\n%')\n",
    "    rotten_title = tr.find('td', attrs={'class':'middle_col'}).text.strip('\\n')"
   ]
  },
  {
   "cell_type": "code",
   "execution_count": 219,
   "metadata": {},
   "outputs": [
    {
     "data": {
      "text/plain": [
       "[]"
      ]
     },
     "execution_count": 219,
     "metadata": {},
     "output_type": "execute_result"
    }
   ],
   "source": [
    "results"
   ]
  },
  {
   "cell_type": "code",
   "execution_count": null,
   "metadata": {},
   "outputs": [],
   "source": [
    "//*[@id=\"Top-Box-Office\"]/tbody/tr[2]/td[2]/a"
   ]
  },
  {
   "cell_type": "code",
   "execution_count": null,
   "metadata": {},
   "outputs": [],
   "source": []
  },
  {
   "cell_type": "code",
   "execution_count": null,
   "metadata": {},
   "outputs": [],
   "source": []
  },
  {
   "cell_type": "code",
   "execution_count": 220,
   "metadata": {},
   "outputs": [],
   "source": [
    "rotten = soup.find('table', attrs={'id':'Top-Box-Office'})"
   ]
  },
  {
   "cell_type": "code",
   "execution_count": 221,
   "metadata": {},
   "outputs": [
    {
     "data": {
      "text/plain": [
       "<table class=\"movie_list\" id=\"Top-Box-Office\">\n",
       "<tr class=\"\">\n",
       "<td class=\"left_col\">\n",
       "<a href=\"/m/ralph_breaks_the_internet\">\n",
       "<span class=\"icon tiny certified_fresh\"></span>\n",
       "<span class=\"tMeterScore\">88%</span>\n",
       "</a>\n",
       "</td>\n",
       "<td class=\"middle_col\">\n",
       "<a href=\"/m/ralph_breaks_the_internet\">Ralph Breaks the Internet</a>\n",
       "</td>\n",
       "<td class=\"right_col right\">\n",
       "<a href=\"/m/ralph_breaks_the_internet\">$16.4M</a>\n",
       "</td>\n",
       "</tr>\n",
       "<tr class=\"\">\n",
       "<td class=\"left_col\">\n",
       "<a href=\"/m/the_grinch\">\n",
       "<span class=\"icon tiny rotten\"></span>\n",
       "<span class=\"tMeterScore\">57%</span>\n",
       "</a>\n",
       "</td>\n",
       "<td class=\"middle_col\">\n",
       "<a href=\"/m/the_grinch\">The Grinch</a>\n",
       "</td>\n",
       "<td class=\"right_col right\">\n",
       "<a href=\"/m/the_grinch\">$15.1M</a>\n",
       "</td>\n",
       "</tr>\n",
       "<tr class=\"\">\n",
       "<td class=\"left_col\">\n",
       "<a href=\"/m/creed_ii\">\n",
       "<span class=\"icon tiny certified_fresh\"></span>\n",
       "<span class=\"tMeterScore\">83%</span>\n",
       "</a>\n",
       "</td>\n",
       "<td class=\"middle_col\">\n",
       "<a href=\"/m/creed_ii\">Creed II</a>\n",
       "</td>\n",
       "<td class=\"right_col right\">\n",
       "<a href=\"/m/creed_ii\">$10.1M</a>\n",
       "</td>\n",
       "</tr>\n",
       "<tr class=\"\">\n",
       "<td class=\"left_col\">\n",
       "<a href=\"/m/fantastic_beasts_the_crimes_of_grindelwald\">\n",
       "<span class=\"icon tiny rotten\"></span>\n",
       "<span class=\"tMeterScore\">38%</span>\n",
       "</a>\n",
       "</td>\n",
       "<td class=\"middle_col\">\n",
       "<a href=\"/m/fantastic_beasts_the_crimes_of_grindelwald\">Fantastic Beasts: The Crimes of Grindelwald</a>\n",
       "</td>\n",
       "<td class=\"right_col right\">\n",
       "<a href=\"/m/fantastic_beasts_the_crimes_of_grindelwald\">$7M</a>\n",
       "</td>\n",
       "</tr>\n",
       "<tr class=\"\">\n",
       "<td class=\"left_col\">\n",
       "<a href=\"/m/bohemian_rhapsody\">\n",
       "<span class=\"icon tiny fresh\"></span>\n",
       "<span class=\"tMeterScore\">62%</span>\n",
       "</a>\n",
       "</td>\n",
       "<td class=\"middle_col\">\n",
       "<a href=\"/m/bohemian_rhapsody\">Bohemian Rhapsody</a>\n",
       "</td>\n",
       "<td class=\"right_col right\">\n",
       "<a href=\"/m/bohemian_rhapsody\">$6.2M</a>\n",
       "</td>\n",
       "</tr>\n",
       "<tr class=\"\">\n",
       "<td class=\"left_col\">\n",
       "<a href=\"/m/instant_family\">\n",
       "<span class=\"icon tiny certified_fresh\"></span>\n",
       "<span class=\"tMeterScore\">82%</span>\n",
       "</a>\n",
       "</td>\n",
       "<td class=\"middle_col\">\n",
       "<a href=\"/m/instant_family\">Instant Family</a>\n",
       "</td>\n",
       "<td class=\"right_col right\">\n",
       "<a href=\"/m/instant_family\">$5.8M</a>\n",
       "</td>\n",
       "</tr>\n",
       "<tr class=\"\">\n",
       "<td class=\"left_col\">\n",
       "<a href=\"/m/green_book\">\n",
       "<span class=\"icon tiny certified_fresh\"></span>\n",
       "<span class=\"tMeterScore\">82%</span>\n",
       "</a>\n",
       "</td>\n",
       "<td class=\"middle_col\">\n",
       "<a href=\"/m/green_book\">Green Book</a>\n",
       "</td>\n",
       "<td class=\"right_col right\">\n",
       "<a href=\"/m/green_book\">$4M</a>\n",
       "</td>\n",
       "</tr>\n",
       "<tr class=\"\">\n",
       "<td class=\"left_col\">\n",
       "<a href=\"/m/robin_hood_2018\">\n",
       "<span class=\"icon tiny rotten\"></span>\n",
       "<span class=\"tMeterScore\">16%</span>\n",
       "</a>\n",
       "</td>\n",
       "<td class=\"middle_col\">\n",
       "<a href=\"/m/robin_hood_2018\">Robin Hood</a>\n",
       "</td>\n",
       "<td class=\"right_col right\">\n",
       "<a href=\"/m/robin_hood_2018\">$3.5M</a>\n",
       "</td>\n",
       "</tr>\n",
       "<tr class=\"\">\n",
       "<td class=\"left_col\">\n",
       "<a href=\"/m/the_possession_of_hannah_grace\">\n",
       "<span class=\"icon tiny rotten\"></span>\n",
       "<span class=\"tMeterScore\">12%</span>\n",
       "</a>\n",
       "</td>\n",
       "<td class=\"middle_col\">\n",
       "<a href=\"/m/the_possession_of_hannah_grace\">The Possession of Hannah Grace</a>\n",
       "</td>\n",
       "<td class=\"right_col right\">\n",
       "<a href=\"/m/the_possession_of_hannah_grace\">$3.3M</a>\n",
       "</td>\n",
       "</tr>\n",
       "<tr class=\"\">\n",
       "<td class=\"left_col\">\n",
       "<a href=\"/m/widows_2018\">\n",
       "<span class=\"icon tiny certified_fresh\"></span>\n",
       "<span class=\"tMeterScore\">91%</span>\n",
       "</a>\n",
       "</td>\n",
       "<td class=\"middle_col\">\n",
       "<a href=\"/m/widows_2018\">Widows</a>\n",
       "</td>\n",
       "<td class=\"right_col right\">\n",
       "<a href=\"/m/widows_2018\">$3.1M</a>\n",
       "</td>\n",
       "</tr>\n",
       "</table>"
      ]
     },
     "execution_count": 221,
     "metadata": {},
     "output_type": "execute_result"
    }
   ],
   "source": [
    "rotten"
   ]
  },
  {
   "cell_type": "code",
   "execution_count": 224,
   "metadata": {},
   "outputs": [],
   "source": [
    "trs = rotten.find_all('tr')"
   ]
  },
  {
   "cell_type": "code",
   "execution_count": 229,
   "metadata": {},
   "outputs": [
    {
     "data": {
      "text/plain": [
       "'Ralph Breaks the Internet'"
      ]
     },
     "execution_count": 229,
     "metadata": {},
     "output_type": "execute_result"
    }
   ],
   "source": [
    "trs[0].find('td', attrs={'class':'middle_col'}).get_text().replace('\\n','')"
   ]
  },
  {
   "cell_type": "code",
   "execution_count": 230,
   "metadata": {},
   "outputs": [
    {
     "data": {
      "text/plain": [
       "'88%'"
      ]
     },
     "execution_count": 230,
     "metadata": {},
     "output_type": "execute_result"
    }
   ],
   "source": [
    "trs[0].find('td', attrs={'class':'left_col'}).get_text().replace('\\n','')"
   ]
  },
  {
   "cell_type": "code",
   "execution_count": 237,
   "metadata": {},
   "outputs": [
    {
     "data": {
      "text/plain": [
       "'https://www.rottentomatoes.com/m/ralph_breaks_the_internet'"
      ]
     },
     "execution_count": 237,
     "metadata": {},
     "output_type": "execute_result"
    }
   ],
   "source": [
    "'https://www.rottentomatoes.com' + trs[0].find('a').attrs['href']\n",
    "#https://www.rottentomatoes.com/m/ralph_breaks_the_internet"
   ]
  },
  {
   "cell_type": "code",
   "execution_count": 241,
   "metadata": {},
   "outputs": [
    {
     "data": {
      "text/plain": [
       "[('88%',\n",
       "  'Ralph Breaks the Internet',\n",
       "  '$16.4M',\n",
       "  'https://www.rottentomatoes.com/m/ralph_breaks_the_internet'),\n",
       " ('57%',\n",
       "  'The Grinch',\n",
       "  '$15.1M',\n",
       "  'https://www.rottentomatoes.com/m/the_grinch'),\n",
       " ('83%', 'Creed II', '$10.1M', 'https://www.rottentomatoes.com/m/creed_ii'),\n",
       " ('38%',\n",
       "  'Fantastic Beasts: The Crimes of Grindelwald',\n",
       "  '$7M',\n",
       "  'https://www.rottentomatoes.com/m/fantastic_beasts_the_crimes_of_grindelwald'),\n",
       " ('62%',\n",
       "  'Bohemian Rhapsody',\n",
       "  '$6.2M',\n",
       "  'https://www.rottentomatoes.com/m/bohemian_rhapsody'),\n",
       " ('82%',\n",
       "  'Instant Family',\n",
       "  '$5.8M',\n",
       "  'https://www.rottentomatoes.com/m/instant_family'),\n",
       " ('82%', 'Green Book', '$4M', 'https://www.rottentomatoes.com/m/green_book'),\n",
       " ('16%',\n",
       "  'Robin Hood',\n",
       "  '$3.5M',\n",
       "  'https://www.rottentomatoes.com/m/robin_hood_2018'),\n",
       " ('12%',\n",
       "  'The Possession of Hannah Grace',\n",
       "  '$3.3M',\n",
       "  'https://www.rottentomatoes.com/m/the_possession_of_hannah_grace'),\n",
       " ('91%', 'Widows', '$3.1M', 'https://www.rottentomatoes.com/m/widows_2018')]"
      ]
     },
     "execution_count": 241,
     "metadata": {},
     "output_type": "execute_result"
    }
   ],
   "source": [
    "results = []\n",
    "for tr in trs:\n",
    "    titles = tr.find('td', attrs={'class':'middle_col'}).get_text().replace('\\n','')\n",
    "    scores = tr.find('td', attrs={'class':'left_col'}).get_text().replace('\\n','')\n",
    "    revenue = tr.find('td', attrs={'class':'right_col right'}).get_text().replace('\\n','')\n",
    "    rotten_url = tr.find('a').attrs['href']\n",
    "    results.append((scores, titles, revenue, url+rotten_url))\n",
    "results"
   ]
  }
 ],
 "metadata": {
  "kernelspec": {
   "display_name": "Python 3",
   "language": "python",
   "name": "python3"
  },
  "language_info": {
   "codemirror_mode": {
    "name": "ipython",
    "version": 3
   },
   "file_extension": ".py",
   "mimetype": "text/x-python",
   "name": "python",
   "nbconvert_exporter": "python",
   "pygments_lexer": "ipython3",
   "version": "3.6.3"
  }
 },
 "nbformat": 4,
 "nbformat_minor": 2
}
